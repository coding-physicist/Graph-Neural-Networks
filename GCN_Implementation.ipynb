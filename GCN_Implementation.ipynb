{
 "cells": [
  {
   "cell_type": "markdown",
   "id": "title-cell",
   "metadata": {},
   "source": [
    "# Graph Convolutional Network (GCN) Implementation\n",
    "\n",
    "This notebook implements and evaluates Graph Convolutional Networks (GCNs) for node classification tasks using the Cora citation network dataset."
   ]
  },
  {
   "cell_type": "markdown",
   "id": "setup-section",
   "metadata": {},
   "source": [
    "## Setup and Data Loading\n",
    "\n",
    "Import necessary libraries and load the Cora citation network dataset for node classification."
   ]
  },
  {
   "cell_type": "code",
   "execution_count": 10,
   "id": "imports",
   "metadata": {},
   "outputs": [
    {
     "data": {
      "text/plain": [
       "<torch._C.Generator at 0x76c991da5cb0>"
      ]
     },
     "execution_count": 10,
     "metadata": {},
     "output_type": "execute_result"
    }
   ],
   "source": [
    "# Core libraries\n",
    "import torch\n",
    "import torch.nn.functional as F\n",
    "from torch.nn import Linear, Dropout\n",
    "\n",
    "# PyTorch Geometric for graph neural networks\n",
    "from torch_geometric.datasets import Planetoid\n",
    "from torch_geometric.nn import GCNConv\n",
    "\n",
    "# Set random seed for reproducibility\n",
    "torch.manual_seed(42)"
   ]
  },
  {
   "cell_type": "code",
   "execution_count": 11,
   "id": "data-loading",
   "metadata": {},
   "outputs": [],
   "source": [
    "# Load Cora citation network dataset\n",
    "dataset = Planetoid(root='.', name='Cora')\n",
    "data = dataset[0]"
   ]
  },
  {
   "cell_type": "code",
   "execution_count": 12,
   "id": "data-exploration",
   "metadata": {},
   "outputs": [
    {
     "name": "stdout",
     "output_type": "stream",
     "text": [
      "\n",
      "==================================================\n",
      "             CORA DATASET STATISTICS              \n",
      "==================================================\n",
      "Dataset Name:      Cora\n",
      "Number of Graphs:  1\n",
      "Number of Nodes:   2,708\n",
      "Number of Edges:   10,556\n",
      "Node Features:     1433\n",
      "Number of Classes: 7\n",
      "Train Nodes:       140\n",
      "Validation Nodes:  500\n",
      "Test Nodes:        1,000\n",
      "==================================================\n"
     ]
    }
   ],
   "source": [
    "# Display dataset statistics\n",
    "print(\"\\n\" + \"=\"*50)\n",
    "print(f\"{'CORA DATASET STATISTICS':^50}\")\n",
    "print(\"=\"*50)\n",
    "print(f\"Dataset Name:      {dataset.name}\")\n",
    "print(f\"Number of Graphs:  {len(dataset):,}\")\n",
    "print(f\"Number of Nodes:   {data.x.shape[0]:,}\")\n",
    "print(f\"Number of Edges:   {data.edge_index.shape[1]:,}\")\n",
    "print(f\"Node Features:     {dataset.num_features}\")\n",
    "print(f\"Number of Classes: {dataset.num_classes}\")\n",
    "print(f\"Train Nodes:       {data.train_mask.sum().item():,}\")\n",
    "print(f\"Validation Nodes:  {data.val_mask.sum().item():,}\")\n",
    "print(f\"Test Nodes:        {data.test_mask.sum().item():,}\")\n",
    "print(\"=\"*50)"
   ]
  },
  {
   "cell_type": "markdown",
   "id": "utility-section",
   "metadata": {},
   "source": [
    "## Utility Functions\n",
    "\n",
    "Helper functions for model training and evaluation."
   ]
  },
  {
   "cell_type": "code",
   "execution_count": 13,
   "id": "accuracy-function",
   "metadata": {},
   "outputs": [],
   "source": [
    "def accuracy(y_pred, y_true):\n",
    "    \"\"\"Calculate classification accuracy\"\"\"\n",
    "    return torch.sum(y_pred == y_true) / len(y_true)"
   ]
  },

  {
   "cell_type": "markdown",
   "id": "gcn-section",
   "metadata": {},
   "source": [
    "## Graph Convolutional Network (GCN)\n",
    "\n",
    "Now we implement the Graph Convolutional Network using PyTorch Geometric's GCNConv layers."
   ]
  },
  {
   "cell_type": "code",
   "execution_count": 15,
   "id": "gcn-class",
   "metadata": {},
   "outputs": [],
   "source": [
    "class GCN(torch.nn.Module):\n",
    "    \"\"\"Graph Convolutional Network for node classification\"\"\"\n",
    "    \n",
    "    def __init__(self, dim_in, dim_h, dim_out):\n",
    "        super().__init__()\n",
    "        self.gcn1 = GCNConv(dim_in, dim_h)    # First GCN layer\n",
    "        self.gcn2 = GCNConv(dim_h, dim_out)   # Second GCN layer\n",
    "        self.dropout = Dropout(0.5)           # Dropout for regularization\n",
    "\n",
    "    def forward(self, x, edge_index):\n",
    "        # First GCN layer with ReLU activation\n",
    "        h = self.gcn1(x, edge_index)\n",
    "        h = F.relu(h)\n",
    "        h = self.dropout(h)\n",
    "        \n",
    "        # Second GCN layer\n",
    "        h = self.gcn2(h, edge_index)\n",
    "        return F.log_softmax(h, dim=1)\n",
    "    \n",
    "    def fit(self, data, epochs):\n",
    "        \"\"\"Train the GCN model\"\"\"\n",
    "        criterion = torch.nn.CrossEntropyLoss()\n",
    "        optimizer = torch.optim.Adam(self.parameters(), lr=0.01, weight_decay=5e-4)\n",
    "        self.train()\n",
    "        \n",
    "        print(\"\\n\" + \"=\"*60)\n",
    "        print(f\"{'Training Graph Convolutional Network':^60}\")\n",
    "        print(\"=\"*60)\n",
    "        print(f\"{'Epoch':>5} {'Train Loss':>12} {'Train Acc':>12} {'Val Loss':>12} {'Val Acc':>12}\")\n",
    "        print(\"-\"*60)\n",
    "        \n",
    "        for epoch in range(epochs + 1):\n",
    "            optimizer.zero_grad()\n",
    "            out = self(data.x, data.edge_index)\n",
    "            loss = criterion(out[data.train_mask], data.y[data.train_mask])\n",
    "            acc = accuracy(out[data.train_mask].argmax(dim=1), data.y[data.train_mask])\n",
    "            \n",
    "            loss.backward()\n",
    "            optimizer.step()\n",
    "            \n",
    "            if epoch % 20 == 0:\n",
    "                val_loss = criterion(out[data.val_mask], data.y[data.val_mask])\n",
    "                val_acc = accuracy(out[data.val_mask].argmax(dim=1), data.y[data.val_mask])\n",
    "                print(f\"{epoch:5d} {loss.item():12.4f} {acc.item()*100:11.2f}% {val_loss.item():12.4f} {val_acc.item()*100:11.2f}%\")\n",
    "        \n",
    "        print(\"-\"*60)\n",
    "        \n",
    "    def test(self, data):\n",
    "        \"\"\"Evaluate on test set\"\"\"\n",
    "        self.eval()\n",
    "        out = self(data.x, data.edge_index)\n",
    "        acc = accuracy(out[data.test_mask].argmax(dim=1), data.y[data.test_mask])\n",
    "        return acc"
   ]
  },
  {
   "cell_type": "markdown",
   "id": "training-section",
   "metadata": {},
   "source": [
    "## Model Training and Evaluation\n",
    "\n",
    "Initialize, train and evaluate the GCN model."
   ]
  },
  {
   "cell_type": "code",
   "execution_count": null,
   "id": "gcn-training",
   "metadata": {},
   "outputs": [],
   "source": [
    "# Initialize GCN model\n",
    "gcn = GCN(dataset.num_features, 16, dataset.num_classes)\n",
    "print(\"\\n\" + \"=\"*40)\n",
    "print(f\"{'GCN ARCHITECTURE':^40}\")\n",
    "print(\"=\"*40)\n",
    "print(gcn)\n",
    "print(f\"Total Parameters: {sum(p.numel() for p in gcn.parameters()):,}\")\n",
    "print(\"=\"*40)"
   ]
  },
  {
   "cell_type": "code",
   "execution_count": null,
   "id": "gcn-fit",
   "metadata": {},
   "outputs": [],
   "source": [
    "# Train GCN model\n",
    "gcn.fit(data, 100)\n",
    "gcn_test_acc = gcn.test(data)\n",
    "\n",
    "print(f\"\\n{'='*30}\")\n",
    "print(f\"{'GCN FINAL RESULTS':^30}\")\n",
    "print(f\"{'='*30}\")\n",
    "print(f\"Test Accuracy: {gcn_test_acc.item()*100:6.2f}%\")\n",
    "print(f\"{'='*30}\")"
   ]
  },
  {
   "cell_type": "markdown",
   "id": "analysis-section",
   "metadata": {},
   "source": [
    "## Technical Analysis\n",
    "\n",
    "Understanding the Graph Convolutional Network implementation and performance."
   ]
  },
  {
   "cell_type": "markdown",
   "id": "gcn-theory",
   "metadata": {},
   "source": [
    "### Graph Convolutional Networks (GCNs)\n",
    "\n",
    "**Core Concepts:**\n",
    "- **Spectral Approach**: Based on spectral graph theory and Chebyshev polynomials\n",
    "- **Localized Convolutions**: Each layer aggregates features from immediate neighbors\n",
    "- **Parameter Sharing**: Same transformation applied across all nodes\n",
    "- **Efficient Implementation**: Uses sparse matrix operations for scalability\n",
    "\n",
    "**Key Advantages:**\n",
    "- **Graph-Aware**: Explicitly models node relationships through adjacency matrix\n",
    "- **Inductive Bias**: Built-in assumption that connected nodes share similar features\n",
    "- **Scalable**: Linear complexity in number of edges\n",
    "- **Regularization**: Dropout and weight decay help prevent overfitting\n",
    "\n",
    "**Architecture Details:**\n",
    "- **Two GCN Layers**: Input → Hidden (16) → Output (7 classes)\n",
    "- **Activation**: ReLU between layers\n",
    "- **Regularization**: 50% dropout, 5e-4 weight decay\n",
    "- **Optimization**: Adam optimizer with 0.01 learning rate\n",
    "\n",
    "**Expected Performance:**\n",
    "GCNs typically achieve 79-81% accuracy on Cora by leveraging the citation network structure where papers citing each other often belong to similar research areas."
   ]
  }
 ],
 "metadata": {
  "kernelspec": {
   "display_name": "torch_geo",
   "language": "python",
   "name": "python3"
  },
  "language_info": {
   "codemirror_mode": {
    "name": "ipython",
    "version": 3
   },
   "file_extension": ".py",
   "mimetype": "text/x-python",
   "name": "python",
   "nbconvert_exporter": "python",
   "pygments_lexer": "ipython3",
   "version": "3.10.18"
  }
 },
 "nbformat": 4,
 "nbformat_minor": 5
}
